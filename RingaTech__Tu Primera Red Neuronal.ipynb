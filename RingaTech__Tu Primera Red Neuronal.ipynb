{
  "nbformat": 4,
  "nbformat_minor": 0,
  "metadata": {
    "colab": {
      "name": "Untitled0.ipynb",
      "provenance": [],
      "authorship_tag": "ABX9TyONXOc2zinM3ttg0kXHrtPX",
      "include_colab_link": true
    },
    "kernelspec": {
      "name": "python3",
      "display_name": "Python 3"
    },
    "language_info": {
      "name": "python"
    }
  },
  "cells": [
    {
      "cell_type": "markdown",
      "metadata": {
        "id": "view-in-github",
        "colab_type": "text"
      },
      "source": [
        "<a href=\"https://colab.research.google.com/github/LedJim/LedJim/blob/main/RingaTech__Tu%20Primera%20Red%20Neuronal.ipynb\" target=\"_parent\"><img src=\"https://colab.research.google.com/assets/colab-badge.svg\" alt=\"Open In Colab\"/></a>"
      ]
    },
    {
      "cell_type": "code",
      "execution_count": 2,
      "metadata": {
        "id": "R98aYw23c-F8"
      },
      "outputs": [],
      "source": [
        "import tensorflow as tf\n",
        "import numpy as np"
      ]
    },
    {
      "cell_type": "code",
      "source": [
        "celsius = np.array([-40, -10, 0, 8, 15, 22, 38 ], dtype=float)\n",
        "fahrenheit = np.array([-40, 14, 32, 46, 59, 72, 100], dtype=float)"
      ],
      "metadata": {
        "id": "qD4303O5dtyp"
      },
      "execution_count": 3,
      "outputs": []
    },
    {
      "cell_type": "code",
      "source": [
        "#cap = tf.keras.layers.Dense(units=1, input_shape=[1])\n",
        "#modelo = tf.keras.Sequential([cap])\n",
        "#ahora vamos a poner UNAS CAPAS OCULTAS\n",
        "\n",
        "capoculta_01 = tf.keras.layers.Dense(units = 3, input_shape=[1])\n",
        "capoculta_02 = tf.keras.layers.Dense(units = 3)\n",
        "salida = tf.keras.layers.Dense(units = 1)\n",
        "modelo = tf.keras.Sequential([capoculta_01, capoculta_02, salida])\n",
        "\n"
      ],
      "metadata": {
        "id": "Def1XonFeXUQ"
      },
      "execution_count": 11,
      "outputs": []
    },
    {
      "cell_type": "code",
      "source": [
        "modelo.compile(\n",
        "    optimizer=tf.keras.optimizers.Adam(0.1),\n",
        "    loss = 'mean_squared_error'\n",
        ")"
      ],
      "metadata": {
        "id": "nZe_JCNMfI4W"
      },
      "execution_count": 12,
      "outputs": []
    },
    {
      "cell_type": "code",
      "source": [
        "print(\"Comenzando el entrenamiento\")\n",
        "historial = modelo.fit(celsius, fahrenheit, epochs=1200, verbose=False)\n",
        "print(\"Modelo entrenado\")"
      ],
      "metadata": {
        "colab": {
          "base_uri": "https://localhost:8080/"
        },
        "id": "w6c3uPWnfj09",
        "outputId": "9404708e-1357-45ee-b57c-126193cfba2e"
      },
      "execution_count": 13,
      "outputs": [
        {
          "output_type": "stream",
          "name": "stdout",
          "text": [
            "Comenzando el entrenamiento\n",
            "Modelo entrenado\n"
          ]
        }
      ]
    },
    {
      "cell_type": "code",
      "source": [
        "import matplotlib.pyplot as plt\n",
        "plt.xlabel(\"# Época\")\n",
        "plt.ylabel(\"Magnitud de Pérdida\")\n",
        "plt.plot(historial.history[\"loss\"])"
      ],
      "metadata": {
        "colab": {
          "base_uri": "https://localhost:8080/",
          "height": 298
        },
        "id": "RHVDheC2gSZW",
        "outputId": "e81d0ea3-b8db-498c-9ade-af39ee649ed9"
      },
      "execution_count": 14,
      "outputs": [
        {
          "output_type": "execute_result",
          "data": {
            "text/plain": [
              "[<matplotlib.lines.Line2D at 0x7f1b6b257a90>]"
            ]
          },
          "metadata": {},
          "execution_count": 14
        },
        {
          "output_type": "display_data",
          "data": {
            "text/plain": [
              "<Figure size 432x288 with 1 Axes>"
            ],
            "image/png": "[encoded data removed]"
          },
          "metadata": {
            "needs_background": "light"
          }
        }
      ]
    },
    {
      "cell_type": "code",
      "source": [
        "print(\"Predicción = utilizando un valor FUERA del rango que le pusimos, etc.\")\n",
        "resultado = modelo.predict([200.0])\n",
        "print(\"El resultado es \" + str(resultado) + \" farenheit\")"
      ],
      "metadata": {
        "colab": {
          "base_uri": "https://localhost:8080/"
        },
        "id": "SPzGvrZWhDqJ",
        "outputId": "94b2f70b-64d9-4516-891c-0e9dff09dbf2"
      },
      "execution_count": 15,
      "outputs": [
        {
          "output_type": "stream",
          "name": "stdout",
          "text": [
            "Predicción = utilizando un valor FUERA del rango que le pusimos, etc.\n",
            "El resultado es [[391.54236]] farenheit\n"
          ]
        }
      ]
    },
    {
      "cell_type": "code",
      "source": [
        "print(\"Variables internas del modelo\")\n",
        "#print(cap.get_weights())\n",
        "\n",
        "print(capoculta_01.get_weights())\n",
        "print(capoculta_02.get_weights())\n",
        "print(salida.get_weights())"
      ],
      "metadata": {
        "colab": {
          "base_uri": "https://localhost:8080/"
        },
        "id": "W1Bx5Oz7iCR6",
        "outputId": "b722bf34-26b6-4129-fd48-6b1210ede4dc"
      },
      "execution_count": 16,
      "outputs": [
        {
          "output_type": "stream",
          "name": "stdout",
          "text": [
            "Variables internas del modelo\n",
            "[array([[-0.32960927, -1.0827638 ,  0.60887057]], dtype=float32), array([-3.0465205, -4.8044443, -2.271257 ], dtype=float32)]\n",
            "[array([[ 0.7894527 , -0.6133896 , -0.14591505],\n",
            "       [ 1.1768551 ,  1.137205  ,  0.83118093],\n",
            "       [ 1.1160568 ,  0.19798824,  0.5540125 ]], dtype=float32), array([-4.661459 , -3.1698475, -4.3495283], dtype=float32)]\n",
            "[array([[-1.260286 ],\n",
            "       [-0.457774 ],\n",
            "       [-0.5918844]], dtype=float32), array([4.0039167], dtype=float32)]\n"
          ]
        }
      ]
    }
  ]
}